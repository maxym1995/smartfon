{
 "cells": [
  {
   "cell_type": "code",
   "execution_count": null,
   "id": "9961f451",
   "metadata": {},
   "outputs": [],
   "source": [
    "import requests \n",
    "import urllib3\n",
    "import os\n",
    "import sys\n",
    "import re\n",
    "import json\n",
    "from bs4 import BeautifulSoup\n",
    "from lxml import html\n",
    "import xml.etree.ElementTree as ET\n",
    "from datetime import datetime\n",
    "import openpyxl "
   ]
  },
  {
   "cell_type": "code",
   "execution_count": null,
   "id": "6cb1dec1",
   "metadata": {},
   "outputs": [],
   "source": [
    "tree = ET.parse('sitemap-produkty-telefony-i-nawigacja-gps.xml')"
   ]
  },
  {
   "cell_type": "code",
   "execution_count": null,
   "id": "d4525289",
   "metadata": {},
   "outputs": [],
   "source": [
    "root = tree.getroot()"
   ]
  },
  {
   "cell_type": "code",
   "execution_count": null,
   "id": "4b4253b7",
   "metadata": {},
   "outputs": [],
   "source": [
    "namespace = {'sitemap': 'http://www.sitemaps.org/schemas/sitemap/0.9'}"
   ]
  },
  {
   "cell_type": "code",
   "execution_count": null,
   "id": "49178ba0",
   "metadata": {},
   "outputs": [],
   "source": [
    "locs = root.findall('.//sitemap:loc', namespace)"
   ]
  },
  {
   "cell_type": "code",
   "execution_count": null,
   "id": "43796f79",
   "metadata": {},
   "outputs": [],
   "source": [
    "urls_list = []"
   ]
  },
  {
   "cell_type": "code",
   "execution_count": null,
   "id": "00fef7dd",
   "metadata": {},
   "outputs": [],
   "source": [
    "for loc in locs:\n",
    "    if 'telefony-komorkowe' in loc.text:\n",
    "        urls_list.append(loc.text)"
   ]
  },
  {
   "cell_type": "code",
   "execution_count": null,
   "id": "c608216e",
   "metadata": {},
   "outputs": [],
   "source": [
    "print(len(urls_list))"
   ]
  },
  {
   "cell_type": "code",
   "execution_count": null,
   "id": "3e74b26c",
   "metadata": {},
   "outputs": [],
   "source": [
    "workbook = openpyxl.Workbook()"
   ]
  },
  {
   "cell_type": "code",
   "execution_count": null,
   "id": "7afae450",
   "metadata": {},
   "outputs": [],
   "source": [
    "worksheet = workbook.active"
   ]
  },
  {
   "cell_type": "code",
   "execution_count": null,
   "id": "d20174fa",
   "metadata": {},
   "outputs": [],
   "source": [
    "column_names = ['ID', 'URL', 'CALE', 'PIKSELE','WYSWIETLACZ TYP','CZESTOTLIWOSC ODSWIEZANIA EKRANU',\n",
    "                'WYSWIETLACZ','APARAT','SYSTEM','PROCESOR','RAM','PAMIEC','CZYTNIK KART','MENU PL','WI-FI','ROZDZIELCZOSC WIDEO',\n",
    "               'GWARANCJA','WAGA', 'BLUETOOTH','5G','BATERIA','NAZWA','CENA','WALUTA','OPINIE LICZBA', 'OCENA']\n",
    "for i, name in enumerate(column_names, start=1):\n",
    "    cell = worksheet.cell(row=1, column=i)\n",
    "    cell.value = name\n"
   ]
  },
  {
   "cell_type": "code",
   "execution_count": null,
   "id": "63aa2cdc",
   "metadata": {},
   "outputs": [],
   "source": [
    "count = 555\n",
    "row_index = 556\n",
    "\n",
    "for url in urls_list:\n",
    "    data = []\n",
    "    data.append(count)\n",
    "    data.append(url)\n",
    "    start_time = datetime.now()\n",
    "    response = requests.get(url)\n",
    "    #print(response)\n",
    "    soup = BeautifulSoup(response.content, 'html.parser')\n",
    "    content = response.text\n",
    "    tree = html.fromstring(content)\n",
    "    raw_data = tree.xpath('(//ngx-json-ld)[2]//text()')\n",
    "    product_details = json.loads(*raw_data)\n",
    "\n",
    "    value = soup.find_all('p', {'class': 'technical-attributes__attribute-value'})\n",
    "    atribute = soup.find_all('p', {'class': 'technical-attributes__attribute-name'})\n",
    "    values = []\n",
    "    attributes = []\n",
    "    for v in value:\n",
    "        values.append(v.get_text())\n",
    "\n",
    "    for a in atribute:\n",
    "        attributes.append(a.get_text())\n",
    "    \n",
    "    list_of_attributes = ['Przekątna wyświetlacza:', 'Rozdzielczość ekranu:',\n",
    "    'Rodzaj wyświetlacza:','Częstotliwość odświeżania ekranu:','Wyświetlacz:','Aparat tylny:','System operacyjny:','Procesor:',\n",
    "    'Pamięć RAM:','Pamięć wbudowana:','Czytnik kart pamięci microSD:','Menu w języku polskim:','Wi-Fi:',\n",
    "    'Rozdzielczość nagrywania wideo:','Gwarancja:','Waga:','Bluetooth:','5G:','Pojemność baterii:']\n",
    "    m_dict = {k: v for k, v in zip(attributes, values)}\n",
    "    my_dict_2 = {k: v for k, v in m_dict.items() if k in list_of_attributes}\n",
    "  \n",
    "    for item in list_of_attributes:\n",
    "        if item in my_dict_2:\n",
    "            data.append(my_dict_2[item])\n",
    "        else:\n",
    "            data.append('N/A')\n",
    "\n",
    "    #nazwa\n",
    "    try:\n",
    "        product_name = product_details['name']\n",
    "        data.append(product_name)\n",
    "    except:\n",
    "        data.append('N/A')\n",
    "\n",
    "    #cena\n",
    "    try:\n",
    "        product_price = product_details['offers']['price']\n",
    "        data.append(product_price)\n",
    "    except:\n",
    "        data.append('N/A')\n",
    "    #waluta\n",
    "    try:\n",
    "        price_currency = product_details['offers']['priceCurrency']\n",
    "        data.append(price_currency)\n",
    "    except:\n",
    "        print('N/A')\n",
    "    #opinie\n",
    "    try:\n",
    "        review_count = product_details['aggregateRating']['reviewCount']\n",
    "        data.append(review_count)\n",
    "    except:\n",
    "        data.append('N/A')\n",
    "    try:\n",
    "        avg_rating = product_details['aggregateRating']['ratingValue']\n",
    "        data.append(avg_rating)\n",
    "    except:\n",
    "        data.append('N/A')\n",
    "\n",
    "    data_formated = []\n",
    "    for d in data:\n",
    "        data_formated.append(str(d))\n",
    "        \n",
    "    for column_index, element in enumerate(data_formated):\n",
    "        worksheet.cell(row=row_index, column=column_index+1, value=element)\n",
    "        \n",
    "    row_index += 1\n",
    "    count+= 1\n",
    "    end_time = datetime.now()\n",
    "    print('Duration: {}'.format(end_time - start_time))\n",
    "    print(f'COUNT:{count}')\n",
    "    print(url)"
   ]
  },
  {
   "cell_type": "code",
   "execution_count": null,
   "id": "3f984425",
   "metadata": {},
   "outputs": [],
   "source": [
    "workbook.save('dane_nowe.xlsx')"
   ]
  }
 ],
 "metadata": {
  "kernelspec": {
   "display_name": "Python 3 (ipykernel)",
   "language": "python",
   "name": "python3"
  },
  "language_info": {
   "codemirror_mode": {
    "name": "ipython",
    "version": 3
   },
   "file_extension": ".py",
   "mimetype": "text/x-python",
   "name": "python",
   "nbconvert_exporter": "python",
   "pygments_lexer": "ipython3",
   "version": "3.9.7"
  }
 },
 "nbformat": 4,
 "nbformat_minor": 5
}
