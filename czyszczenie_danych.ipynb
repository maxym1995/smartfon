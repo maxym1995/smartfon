{
 "cells": [
  {
   "cell_type": "code",
   "execution_count": 1,
   "id": "80d0e3b6",
   "metadata": {},
   "outputs": [],
   "source": [
    "import pandas as pd\n",
    "import numpy as np\n",
    "import re\n",
    "import math\n",
    "import matplotlib.pyplot as plt\n",
    "import seaborn as sns\n",
    "%matplotlib inline\n",
    "import datetime\n",
    "import openpyxl \n",
    "import os\n",
    "import re"
   ]
  },
  {
   "cell_type": "code",
   "execution_count": 2,
   "id": "1c9ce1ab",
   "metadata": {},
   "outputs": [],
   "source": [
    "pd.set_option('display.max_columns', None)\n",
    "pd.set_option('display.max_rows', None)"
   ]
  },
  {
   "cell_type": "code",
   "execution_count": 3,
   "id": "9ce2dd9a",
   "metadata": {},
   "outputs": [],
   "source": [
    "plik = 'dane_nowe.xlsx'"
   ]
  },
  {
   "cell_type": "code",
   "execution_count": 4,
   "id": "0f074557",
   "metadata": {},
   "outputs": [],
   "source": [
    "dane = pd.read_excel(plik)"
   ]
  },
  {
   "cell_type": "code",
   "execution_count": 5,
   "id": "51911353",
   "metadata": {},
   "outputs": [
    {
     "data": {
      "text/html": [
       "<div>\n",
       "<style scoped>\n",
       "    .dataframe tbody tr th:only-of-type {\n",
       "        vertical-align: middle;\n",
       "    }\n",
       "\n",
       "    .dataframe tbody tr th {\n",
       "        vertical-align: top;\n",
       "    }\n",
       "\n",
       "    .dataframe thead th {\n",
       "        text-align: right;\n",
       "    }\n",
       "</style>\n",
       "<table border=\"1\" class=\"dataframe\">\n",
       "  <thead>\n",
       "    <tr style=\"text-align: right;\">\n",
       "      <th></th>\n",
       "      <th>ID</th>\n",
       "      <th>URL</th>\n",
       "      <th>CALE</th>\n",
       "      <th>PIKSELE</th>\n",
       "      <th>WYSWIETLACZ TYP</th>\n",
       "      <th>CZESTOTLIWOSC ODSWIEZANIA EKRANU</th>\n",
       "      <th>WYSWIETLACZ</th>\n",
       "      <th>APARAT</th>\n",
       "      <th>SYSTEM</th>\n",
       "      <th>PROCESOR</th>\n",
       "      <th>RAM</th>\n",
       "      <th>PAMIEC</th>\n",
       "      <th>CZYTNIK KART</th>\n",
       "      <th>MENU PL</th>\n",
       "      <th>WI-FI</th>\n",
       "      <th>ROZDZIELCZOSC WIDEO</th>\n",
       "      <th>GWARANCJA</th>\n",
       "      <th>WAGA</th>\n",
       "      <th>BLUETOOTH</th>\n",
       "      <th>5G</th>\n",
       "      <th>BATERIA</th>\n",
       "      <th>NAZWA</th>\n",
       "      <th>CENA</th>\n",
       "      <th>WALUTA</th>\n",
       "      <th>OPINIE LICZBA</th>\n",
       "      <th>OCENA</th>\n",
       "    </tr>\n",
       "  </thead>\n",
       "  <tbody>\n",
       "    <tr>\n",
       "      <th>0</th>\n",
       "      <td>1</td>\n",
       "      <td>https://www.euro.com.pl/telefony-komorkowe/sam...</td>\n",
       "      <td>6,5 \"</td>\n",
       "      <td>1600 x 720 pikseli</td>\n",
       "      <td>NaN</td>\n",
       "      <td>60 Hz</td>\n",
       "      <td>16 mln kolorów</td>\n",
       "      <td>48 Mpix + 8 Mpix + 5 Mpix + 2 Mpix</td>\n",
       "      <td>Android 11</td>\n",
       "      <td>MediaTek MT6853 8-rdzeniowy</td>\n",
       "      <td>4 GB</td>\n",
       "      <td>64 GB</td>\n",
       "      <td>tak</td>\n",
       "      <td>tak</td>\n",
       "      <td>tak</td>\n",
       "      <td>4K</td>\n",
       "      <td>24 miesiące</td>\n",
       "      <td>205 g</td>\n",
       "      <td>tak v5.0</td>\n",
       "      <td>tak</td>\n",
       "      <td>5000 mAh</td>\n",
       "      <td>Smartfon Samsung Galaxy A32 5G - 6,5\" - 48 Mpi...</td>\n",
       "      <td>999.0</td>\n",
       "      <td>PLN</td>\n",
       "      <td>15.0</td>\n",
       "      <td>4.4</td>\n",
       "    </tr>\n",
       "    <tr>\n",
       "      <th>1</th>\n",
       "      <td>2</td>\n",
       "      <td>https://www.euro.com.pl/telefony-komorkowe/pan...</td>\n",
       "      <td>2,4 \"</td>\n",
       "      <td>320 x 240 pikseli</td>\n",
       "      <td>NaN</td>\n",
       "      <td>NaN</td>\n",
       "      <td>kolorowy</td>\n",
       "      <td>0,08 Mpix</td>\n",
       "      <td>producenta</td>\n",
       "      <td>NaN</td>\n",
       "      <td>poniżej 512 MB</td>\n",
       "      <td>NaN</td>\n",
       "      <td>tak</td>\n",
       "      <td>tak</td>\n",
       "      <td>nie</td>\n",
       "      <td>NaN</td>\n",
       "      <td>24 miesiące</td>\n",
       "      <td>106 g</td>\n",
       "      <td>tak</td>\n",
       "      <td>nie</td>\n",
       "      <td>800 mAh</td>\n",
       "      <td>Telefon Panasonic KX-TU400 (czerwony)</td>\n",
       "      <td>249.0</td>\n",
       "      <td>PLN</td>\n",
       "      <td>NaN</td>\n",
       "      <td>NaN</td>\n",
       "    </tr>\n",
       "    <tr>\n",
       "      <th>2</th>\n",
       "      <td>3</td>\n",
       "      <td>https://www.euro.com.pl/telefony-komorkowe/-sm...</td>\n",
       "      <td>6,6 \"</td>\n",
       "      <td>1600 x 720 pikseli</td>\n",
       "      <td>IPS</td>\n",
       "      <td>60 Hz</td>\n",
       "      <td>HD+</td>\n",
       "      <td>8 Mpix</td>\n",
       "      <td>Android 11 Go</td>\n",
       "      <td>MediaTek A22 4-rdzeniowy</td>\n",
       "      <td>2 GB</td>\n",
       "      <td>32 GB</td>\n",
       "      <td>tak</td>\n",
       "      <td>tak</td>\n",
       "      <td>tak</td>\n",
       "      <td>2K</td>\n",
       "      <td>24 miesiące</td>\n",
       "      <td>198 g</td>\n",
       "      <td>tak</td>\n",
       "      <td>nie</td>\n",
       "      <td>5000 mAh</td>\n",
       "      <td>Smartfon Infinix SMART 6 HD 2/32GB - 6,6\" - 8 ...</td>\n",
       "      <td>349.0</td>\n",
       "      <td>PLN</td>\n",
       "      <td>NaN</td>\n",
       "      <td>NaN</td>\n",
       "    </tr>\n",
       "    <tr>\n",
       "      <th>3</th>\n",
       "      <td>4</td>\n",
       "      <td>https://www.euro.com.pl/telefony-komorkowe/one...</td>\n",
       "      <td>6,43 \"</td>\n",
       "      <td>2408 x 1080 pikseli</td>\n",
       "      <td>AMOLED</td>\n",
       "      <td>90 Hz</td>\n",
       "      <td>Full HD+</td>\n",
       "      <td>50 Mpix + 8 Mpix + 2 Mpix</td>\n",
       "      <td>Android 12</td>\n",
       "      <td>MediaTek Dimensity 1300 8-rdzeniowy</td>\n",
       "      <td>8 GB</td>\n",
       "      <td>128 GB</td>\n",
       "      <td>nie</td>\n",
       "      <td>tak</td>\n",
       "      <td>tak</td>\n",
       "      <td>4K</td>\n",
       "      <td>24 miesiące</td>\n",
       "      <td>190 g</td>\n",
       "      <td>tak v5.2</td>\n",
       "      <td>tak</td>\n",
       "      <td>4500 mAh</td>\n",
       "      <td>Smartfon OnePlus Nord 2T 5G 8/128GB - 6,43\" - ...</td>\n",
       "      <td>1899.0</td>\n",
       "      <td>PLN</td>\n",
       "      <td>9.0</td>\n",
       "      <td>4.9</td>\n",
       "    </tr>\n",
       "    <tr>\n",
       "      <th>4</th>\n",
       "      <td>5</td>\n",
       "      <td>https://www.euro.com.pl/telefony-komorkowe/poc...</td>\n",
       "      <td>6,67 \"</td>\n",
       "      <td>2400 x 1080 pikseli</td>\n",
       "      <td>AMOLED</td>\n",
       "      <td>120 Hz</td>\n",
       "      <td>Full HD+</td>\n",
       "      <td>48 Mpix + 8 Mpix + 2 Mpix</td>\n",
       "      <td>Android 12</td>\n",
       "      <td>Qualcomm Snapdragon 695 8-rdzeniowy</td>\n",
       "      <td>8 GB</td>\n",
       "      <td>256 GB</td>\n",
       "      <td>tak</td>\n",
       "      <td>tak</td>\n",
       "      <td>tak</td>\n",
       "      <td>NaN</td>\n",
       "      <td>24 miesiące</td>\n",
       "      <td>189 g</td>\n",
       "      <td>tak v5.1</td>\n",
       "      <td>tak</td>\n",
       "      <td>5000 mAh</td>\n",
       "      <td>Smartfon POCO X5 5G 8/256GB - 6,67\" - 48 Mpix ...</td>\n",
       "      <td>1599.0</td>\n",
       "      <td>PLN</td>\n",
       "      <td>5.0</td>\n",
       "      <td>4.9</td>\n",
       "    </tr>\n",
       "  </tbody>\n",
       "</table>\n",
       "</div>"
      ],
      "text/plain": [
       "   ID                                                URL      CALE  \\\n",
       "0   1  https://www.euro.com.pl/telefony-komorkowe/sam...    6,5 \"    \n",
       "1   2  https://www.euro.com.pl/telefony-komorkowe/pan...    2,4 \"    \n",
       "2   3  https://www.euro.com.pl/telefony-komorkowe/-sm...    6,6 \"    \n",
       "3   4  https://www.euro.com.pl/telefony-komorkowe/one...   6,43 \"    \n",
       "4   5  https://www.euro.com.pl/telefony-komorkowe/poc...   6,67 \"    \n",
       "\n",
       "                 PIKSELE WYSWIETLACZ TYP CZESTOTLIWOSC ODSWIEZANIA EKRANU  \\\n",
       "0    1600 x 720 pikseli              NaN                           60 Hz    \n",
       "1     320 x 240 pikseli              NaN                              NaN   \n",
       "2    1600 x 720 pikseli             IPS                            60 Hz    \n",
       "3   2408 x 1080 pikseli          AMOLED                            90 Hz    \n",
       "4   2400 x 1080 pikseli          AMOLED                           120 Hz    \n",
       "\n",
       "        WYSWIETLACZ                                APARAT           SYSTEM  \\\n",
       "0   16 mln kolorów    48 Mpix + 8 Mpix + 5 Mpix + 2 Mpix       Android 11    \n",
       "1         kolorowy                             0,08 Mpix       producenta    \n",
       "2              HD+                                8 Mpix    Android 11 Go    \n",
       "3         Full HD+             50 Mpix + 8 Mpix + 2 Mpix       Android 12    \n",
       "4         Full HD+             48 Mpix + 8 Mpix + 2 Mpix       Android 12    \n",
       "\n",
       "                                PROCESOR               RAM    PAMIEC  \\\n",
       "0           MediaTek MT6853 8-rdzeniowy              4 GB     64 GB    \n",
       "1                                    NaN   poniżej 512 MB        NaN   \n",
       "2              MediaTek A22 4-rdzeniowy              2 GB     32 GB    \n",
       "3   MediaTek Dimensity 1300 8-rdzeniowy              8 GB    128 GB    \n",
       "4   Qualcomm Snapdragon 695 8-rdzeniowy              8 GB    256 GB    \n",
       "\n",
       "  CZYTNIK KART MENU PL  WI-FI ROZDZIELCZOSC WIDEO      GWARANCJA     WAGA  \\\n",
       "0         tak     tak    tak                  4K    24 miesiące    205 g    \n",
       "1         tak     tak    nie                  NaN   24 miesiące    106 g    \n",
       "2         tak     tak    tak                  2K    24 miesiące    198 g    \n",
       "3         nie     tak    tak                  4K    24 miesiące    190 g    \n",
       "4         tak     tak    tak                  NaN   24 miesiące    189 g    \n",
       "\n",
       "    BLUETOOTH     5G     BATERIA  \\\n",
       "0   tak v5.0    tak    5000 mAh    \n",
       "1        tak    nie     800 mAh    \n",
       "2        tak    nie    5000 mAh    \n",
       "3   tak v5.2    tak    4500 mAh    \n",
       "4   tak v5.1    tak    5000 mAh    \n",
       "\n",
       "                                               NAZWA    CENA WALUTA  \\\n",
       "0  Smartfon Samsung Galaxy A32 5G - 6,5\" - 48 Mpi...   999.0    PLN   \n",
       "1              Telefon Panasonic KX-TU400 (czerwony)   249.0    PLN   \n",
       "2  Smartfon Infinix SMART 6 HD 2/32GB - 6,6\" - 8 ...   349.0    PLN   \n",
       "3  Smartfon OnePlus Nord 2T 5G 8/128GB - 6,43\" - ...  1899.0    PLN   \n",
       "4  Smartfon POCO X5 5G 8/256GB - 6,67\" - 48 Mpix ...  1599.0    PLN   \n",
       "\n",
       "   OPINIE LICZBA OCENA  \n",
       "0           15.0   4.4  \n",
       "1            NaN   NaN  \n",
       "2            NaN   NaN  \n",
       "3            9.0   4.9  \n",
       "4            5.0   4.9  "
      ]
     },
     "execution_count": 5,
     "metadata": {},
     "output_type": "execute_result"
    }
   ],
   "source": [
    "dane.head()"
   ]
  },
  {
   "cell_type": "code",
   "execution_count": 6,
   "id": "ef6f5cfd",
   "metadata": {},
   "outputs": [
    {
     "data": {
      "text/plain": [
       "ID                                    0\n",
       "URL                                   0\n",
       "CALE                                  0\n",
       "WALUTA                                0\n",
       "NAZWA                                 0\n",
       "GWARANCJA                             0\n",
       "BLUETOOTH                             2\n",
       "CENA                                  5\n",
       "5G                                    7\n",
       "APARAT                               10\n",
       "PROCESOR                             15\n",
       "WI-FI                                29\n",
       "MENU PL                              31\n",
       "PIKSELE                              43\n",
       "CZYTNIK KART                         53\n",
       "SYSTEM                               63\n",
       "PAMIEC                               77\n",
       "WAGA                                 97\n",
       "OCENA                               174\n",
       "OPINIE LICZBA                       175\n",
       "RAM                                 191\n",
       "BATERIA                             192\n",
       "WYSWIETLACZ                         221\n",
       "ROZDZIELCZOSC WIDEO                 283\n",
       "WYSWIETLACZ TYP                     379\n",
       "CZESTOTLIWOSC ODSWIEZANIA EKRANU    496\n",
       "dtype: int64"
      ]
     },
     "execution_count": 6,
     "metadata": {},
     "output_type": "execute_result"
    }
   ],
   "source": [
    "dane.isnull().sum().sort_values()"
   ]
  },
  {
   "cell_type": "code",
   "execution_count": 7,
   "id": "d9fa57a1",
   "metadata": {},
   "outputs": [
    {
     "name": "stdout",
     "output_type": "stream",
     "text": [
      "<class 'pandas.core.frame.DataFrame'>\n",
      "RangeIndex: 1391 entries, 0 to 1390\n",
      "Data columns (total 26 columns):\n",
      " #   Column                            Non-Null Count  Dtype  \n",
      "---  ------                            --------------  -----  \n",
      " 0   ID                                1391 non-null   int64  \n",
      " 1   URL                               1391 non-null   object \n",
      " 2   CALE                              1391 non-null   object \n",
      " 3   PIKSELE                           1348 non-null   object \n",
      " 4   WYSWIETLACZ TYP                   1012 non-null   object \n",
      " 5   CZESTOTLIWOSC ODSWIEZANIA EKRANU  895 non-null    object \n",
      " 6   WYSWIETLACZ                       1170 non-null   object \n",
      " 7   APARAT                            1381 non-null   object \n",
      " 8   SYSTEM                            1328 non-null   object \n",
      " 9   PROCESOR                          1376 non-null   object \n",
      " 10  RAM                               1200 non-null   object \n",
      " 11  PAMIEC                            1314 non-null   object \n",
      " 12  CZYTNIK KART                      1338 non-null   object \n",
      " 13  MENU PL                           1360 non-null   object \n",
      " 14  WI-FI                             1362 non-null   object \n",
      " 15  ROZDZIELCZOSC WIDEO               1108 non-null   object \n",
      " 16  GWARANCJA                         1391 non-null   object \n",
      " 17  WAGA                              1294 non-null   object \n",
      " 18  BLUETOOTH                         1389 non-null   object \n",
      " 19  5G                                1384 non-null   object \n",
      " 20  BATERIA                           1199 non-null   object \n",
      " 21  NAZWA                             1391 non-null   object \n",
      " 22  CENA                              1386 non-null   float64\n",
      " 23  WALUTA                            1391 non-null   object \n",
      " 24  OPINIE LICZBA                     1216 non-null   float64\n",
      " 25  OCENA                             1217 non-null   object \n",
      "dtypes: float64(2), int64(1), object(23)\n",
      "memory usage: 282.7+ KB\n"
     ]
    }
   ],
   "source": [
    "dane.info()"
   ]
  },
  {
   "cell_type": "markdown",
   "id": "323a8efa",
   "metadata": {},
   "source": [
    "piksele ujednolicenie"
   ]
  },
  {
   "cell_type": "code",
   "execution_count": 8,
   "id": "4b8f30ef",
   "metadata": {},
   "outputs": [],
   "source": [
    "dane[\"PIKSELE\"] = dane[\"PIKSELE\"].str.replace('pikseli', '') \n",
    "dane[\"PIKSELE\"] = dane[\"PIKSELE\"].str.replace('piksele', '') "
   ]
  },
  {
   "cell_type": "markdown",
   "id": "1fdfe2c1",
   "metadata": {},
   "source": [
    "piksele ujednolicenie"
   ]
  },
  {
   "cell_type": "code",
   "execution_count": 9,
   "id": "ecc08063",
   "metadata": {},
   "outputs": [],
   "source": [
    "dane[\"CALE\"] = dane[\"CALE\"].str.replace(' \"', '') "
   ]
  },
  {
   "cell_type": "markdown",
   "id": "e79c95ae",
   "metadata": {},
   "source": [
    "hz ujednolicenie"
   ]
  },
  {
   "cell_type": "code",
   "execution_count": 10,
   "id": "3b29ca3d",
   "metadata": {},
   "outputs": [],
   "source": [
    "dane[\"CZESTOTLIWOSC ODSWIEZANIA EKRANU\"] = dane[\"CZESTOTLIWOSC ODSWIEZANIA EKRANU\"].str.replace(' Hz', '') "
   ]
  },
  {
   "cell_type": "markdown",
   "id": "5f03fb14",
   "metadata": {},
   "source": [
    "wyswietlacz typ ujednolicenie tylko do 0typow IPS, OLED, POLED, AMOLED, INNY"
   ]
  },
  {
   "cell_type": "code",
   "execution_count": 11,
   "id": "75109693",
   "metadata": {},
   "outputs": [],
   "source": [
    "dane['WYSWIETLACZ TYP'] = dane['WYSWIETLACZ TYP'].astype(str)            \n",
    "dane['WYSWIETLACZ'] = dane['WYSWIETLACZ'].astype(str)"
   ]
  },
  {
   "cell_type": "code",
   "execution_count": 12,
   "id": "ab3b6098",
   "metadata": {},
   "outputs": [],
   "source": [
    "dane.loc[dane['WYSWIETLACZ TYP'] == 'nan', 'WYSWIETLACZ TYP'] = dane['WYSWIETLACZ']"
   ]
  },
  {
   "cell_type": "code",
   "execution_count": 13,
   "id": "c5a60972",
   "metadata": {},
   "outputs": [],
   "source": [
    "dane.loc[dane['WYSWIETLACZ TYP'].str.contains('AMOLED'), 'WYSWIETLACZ TYP'] = 'AMOLED'"
   ]
  },
  {
   "cell_type": "code",
   "execution_count": 14,
   "id": "360c5463",
   "metadata": {},
   "outputs": [],
   "source": [
    "dane['WYSWIETLACZ TYP'] = dane['WYSWIETLACZ TYP'].apply(lambda x: x.upper())"
   ]
  },
  {
   "cell_type": "code",
   "execution_count": 15,
   "id": "ff132a0a",
   "metadata": {},
   "outputs": [],
   "source": [
    "dane.loc[dane['WYSWIETLACZ TYP'].str.contains('POLED'), 'WYSWIETLACZ TYP'] = 'POLED'"
   ]
  },
  {
   "cell_type": "code",
   "execution_count": 16,
   "id": "bab45b25",
   "metadata": {},
   "outputs": [],
   "source": [
    "dane['WYSWIETLACZ TYP'] = dane['WYSWIETLACZ TYP'].apply(lambda x: x.lower())"
   ]
  },
  {
   "cell_type": "code",
   "execution_count": 17,
   "id": "55381afd",
   "metadata": {},
   "outputs": [],
   "source": [
    "dane.loc[dane['WYSWIETLACZ TYP'].str.contains('amoled'), 'WYSWIETLACZ TYP'] = 'AMOLED'\n",
    "dane.loc[dane['WYSWIETLACZ TYP'].str.contains('poled'), 'WYSWIETLACZ TYP'] = 'POLED'"
   ]
  },
  {
   "cell_type": "code",
   "execution_count": 18,
   "id": "ef103074",
   "metadata": {},
   "outputs": [],
   "source": [
    "dane.loc[dane['WYSWIETLACZ TYP'].str.contains('oled'), 'WYSWIETLACZ TYP'] = 'OLED'"
   ]
  },
  {
   "cell_type": "code",
   "execution_count": 19,
   "id": "28c24f6b",
   "metadata": {},
   "outputs": [],
   "source": [
    "dane.loc[dane['WYSWIETLACZ TYP'].str.contains('ips'), 'WYSWIETLACZ TYP'] = 'IPS'"
   ]
  },
  {
   "cell_type": "code",
   "execution_count": 20,
   "id": "c3ae44da",
   "metadata": {},
   "outputs": [],
   "source": [
    "dane.loc[~dane['WYSWIETLACZ TYP'].str.contains('IPS|OLED|POLED|AMOLED'), 'WYSWIETLACZ TYP'] = 'INNY'"
   ]
  },
  {
   "cell_type": "code",
   "execution_count": 21,
   "id": "748645ad",
   "metadata": {},
   "outputs": [
    {
     "name": "stdout",
     "output_type": "stream",
     "text": [
      "Number of unique values: 5\n",
      "Unique values:\n",
      "['AMOLED', 'INNY', 'IPS', 'OLED', 'POLED']\n",
      "AMOLED    480\n",
      "INNY      360\n",
      "IPS       348\n",
      "OLED      183\n",
      "POLED      20\n",
      "Name: WYSWIETLACZ TYP, dtype: int64\n"
     ]
    }
   ],
   "source": [
    "unique_values = dane['WYSWIETLACZ TYP'].value_counts()\n",
    "\n",
    "print(\"Number of unique values:\", unique_values.count())\n",
    "print(\"Unique values:\")\n",
    "print(unique_values.index.tolist())\n",
    "\n",
    "value_counts = dane['WYSWIETLACZ TYP'].value_counts(dropna=False)\n",
    "print(value_counts)"
   ]
  },
  {
   "cell_type": "markdown",
   "id": "fff834b5",
   "metadata": {},
   "source": [
    "OLED typ dla iphone "
   ]
  },
  {
   "cell_type": "code",
   "execution_count": 22,
   "id": "4c9366bd",
   "metadata": {},
   "outputs": [],
   "source": [
    "dane.loc[(dane['WYSWIETLACZ TYP'] == 'INNY') & (dane['URL'].str.contains('iphone')), 'WYSWIETLACZ TYP'] = 'OLED'"
   ]
  },
  {
   "cell_type": "markdown",
   "id": "e3877fe5",
   "metadata": {},
   "source": [
    "aparat suma pikseli"
   ]
  },
  {
   "cell_type": "code",
   "execution_count": 23,
   "id": "cbe24e20",
   "metadata": {},
   "outputs": [],
   "source": [
    "dane['APARAT'] = dane['APARAT'].astype(str)  "
   ]
  },
  {
   "cell_type": "code",
   "execution_count": 24,
   "id": "fdb19e37",
   "metadata": {},
   "outputs": [],
   "source": [
    "num_regex = re.compile(r'\\d+[,.]?\\d*')\n",
    "\n",
    "for i, row in dane.iterrows():\n",
    "    text = row['APARAT']\n",
    "    numbers = [float(x.replace(',', '.')) for x in num_regex.findall(text)]\n",
    "    total = sum(numbers)\n",
    "    dane.at[i, 'APARAT'] = str(total)"
   ]
  },
  {
   "cell_type": "markdown",
   "id": "9542b081",
   "metadata": {},
   "source": [
    "ujednolicenie systemu do Android, IOS, inny"
   ]
  },
  {
   "cell_type": "code",
   "execution_count": 25,
   "id": "9ea1b0fc",
   "metadata": {},
   "outputs": [
    {
     "name": "stdout",
     "output_type": "stream",
     "text": [
      "Number of unique values: 31\n",
      "Unique values:\n",
      "[' Android 11 ', ' Android 12 ', ' Android 10 ', ' iOS 15 ', ' Android 13 ', ' iOS 16 ', ' producenta ', ' Android 9 Pie ', ' iOS 14 ', ' iOS 13 ', ' EMUI 12 (oparty na systemie Android) HMS ', ' Android 11 Go ', ' Android 8 Oreo ', ' Android 10 + EMUI 10.1 ', ' KaiOS ', ' Android 10 Go ', ' Android 10 + MIUI 11 ', ' Android 9 + EMUI 9 ', ' EMUI 13 (oparty na systemie Android) HMS ', ' Android 13 Go ', ' Android 12 Go ', ' Android 6 Marshmallow ', ' Android 10 + EMUI 10 ', ' Android 8 Oreo Go Edition ', ' Android 10 + One UI 2,0 ', ' Symbian ', ' Android 7 Nougat ', ' Android 9 + EMUI 9.1 ', ' Android 8.1 ', ' iOS 12 ', ' iOS 10 ']\n"
     ]
    }
   ],
   "source": [
    "unique_values = dane['SYSTEM'].value_counts()\n",
    "\n",
    "print(\"Number of unique values:\", unique_values.count())\n",
    "print(\"Unique values:\")\n",
    "print(unique_values.index.tolist())"
   ]
  },
  {
   "cell_type": "code",
   "execution_count": 26,
   "id": "35c0819f",
   "metadata": {},
   "outputs": [],
   "source": [
    "dane['SYSTEM'] = dane['SYSTEM'].astype(str)\n",
    "dane['SYSTEM'] = dane['SYSTEM'].apply(lambda x: x.upper())"
   ]
  },
  {
   "cell_type": "code",
   "execution_count": 27,
   "id": "7e43fa51",
   "metadata": {},
   "outputs": [],
   "source": [
    "dane.loc[dane['SYSTEM'].str.contains('ANDROID'), 'SYSTEM'] = 'ANDROID'\n",
    "dane.loc[dane['SYSTEM'].str.contains('IOS'), 'SYSTEM'] = 'IOS'"
   ]
  },
  {
   "cell_type": "code",
   "execution_count": 28,
   "id": "17c2b5fc",
   "metadata": {},
   "outputs": [],
   "source": [
    "for i in range(len(dane)):\n",
    "    if 'ANDROID' not in dane.loc[i, 'SYSTEM'] and 'IOS' not in dane.loc[i, 'SYSTEM']:\n",
    "        dane.loc[i, 'SYSTEM'] = 'INNY'"
   ]
  },
  {
   "cell_type": "markdown",
   "id": "2960ff7e",
   "metadata": {},
   "source": [
    "5G"
   ]
  },
  {
   "cell_type": "code",
   "execution_count": 29,
   "id": "1a57f780",
   "metadata": {},
   "outputs": [],
   "source": [
    "dane['5G'] = dane['5G'].astype(str)\n",
    "dane['5G'] = dane['5G'].str.strip()"
   ]
  },
  {
   "cell_type": "code",
   "execution_count": 30,
   "id": "4ed3b2d3",
   "metadata": {},
   "outputs": [],
   "source": [
    "dane.loc[dane['5G'].str.contains('nan|nie'), '5G'] = '0'\n",
    "dane.loc[dane['5G'].str.contains('tak'), '5G'] = '1'\n",
    "dane['5G'] = dane['5G'].astype(int)"
   ]
  },
  {
   "cell_type": "code",
   "execution_count": 31,
   "id": "d8df5fe0",
   "metadata": {},
   "outputs": [
    {
     "name": "stdout",
     "output_type": "stream",
     "text": [
      "Number of unique values: 2\n",
      "Unique values:\n",
      "[0, 1]\n"
     ]
    }
   ],
   "source": [
    "unique_values = dane['5G'].value_counts()\n",
    "\n",
    "print(\"Number of unique values:\", unique_values.count())\n",
    "print(\"Unique values:\")\n",
    "print(unique_values.index.tolist())"
   ]
  },
  {
   "cell_type": "markdown",
   "id": "0a4d3162",
   "metadata": {},
   "source": [
    "BLUETOOTH"
   ]
  },
  {
   "cell_type": "code",
   "execution_count": 32,
   "id": "3a352735",
   "metadata": {},
   "outputs": [],
   "source": [
    "dane['BLUETOOTH'] = dane['BLUETOOTH'].astype(str)\n",
    "dane['BLUETOOTH'] = dane['BLUETOOTH'].str.strip()"
   ]
  },
  {
   "cell_type": "code",
   "execution_count": 33,
   "id": "2a9efa03",
   "metadata": {},
   "outputs": [],
   "source": [
    "dane.loc[dane['BLUETOOTH'].str.contains('tak'), 'BLUETOOTH'] = '1'\n",
    "dane.loc[dane['BLUETOOTH'].str.contains('nan|nie'), 'BLUETOOTH'] = '0'"
   ]
  },
  {
   "cell_type": "code",
   "execution_count": 34,
   "id": "3c2b7ed3",
   "metadata": {},
   "outputs": [],
   "source": [
    "dane['BLUETOOTH'] = dane['BLUETOOTH'].astype(int)"
   ]
  },
  {
   "cell_type": "code",
   "execution_count": 35,
   "id": "0d5dcedf",
   "metadata": {},
   "outputs": [
    {
     "name": "stdout",
     "output_type": "stream",
     "text": [
      "Number of unique values: 2\n",
      "Unique values:\n",
      "[1, 0]\n"
     ]
    }
   ],
   "source": [
    "unique_values = dane['BLUETOOTH'].value_counts()\n",
    "\n",
    "print(\"Number of unique values:\", unique_values.count())\n",
    "print(\"Unique values:\")\n",
    "print(unique_values.index.tolist())"
   ]
  },
  {
   "cell_type": "markdown",
   "id": "f267ef3c",
   "metadata": {},
   "source": [
    "GWARANCJA"
   ]
  },
  {
   "cell_type": "code",
   "execution_count": 36,
   "id": "751d5358",
   "metadata": {},
   "outputs": [],
   "source": [
    "dane['GWARANCJA'] = dane['GWARANCJA'].str.extract('(\\d+)', expand=False)\n",
    "dane['GWARANCJA'] = dane['GWARANCJA'].astype(int)"
   ]
  },
  {
   "cell_type": "code",
   "execution_count": 37,
   "id": "a6ad51b6",
   "metadata": {},
   "outputs": [
    {
     "name": "stdout",
     "output_type": "stream",
     "text": [
      "Number of unique values: 3\n",
      "Unique values:\n",
      "[24, 12, 36]\n"
     ]
    }
   ],
   "source": [
    "unique_values = dane['GWARANCJA'].value_counts()\n",
    "\n",
    "print(\"Number of unique values:\", unique_values.count())\n",
    "print(\"Unique values:\")\n",
    "print(unique_values.index.tolist())"
   ]
  },
  {
   "cell_type": "markdown",
   "id": "05525ab5",
   "metadata": {},
   "source": [
    "WI-FI"
   ]
  },
  {
   "cell_type": "code",
   "execution_count": 38,
   "id": "6c72fab0",
   "metadata": {},
   "outputs": [],
   "source": [
    "dane['WI-FI'] = dane['WI-FI'].astype(str)\n",
    "dane['WI-FI'] = dane['WI-FI'].str.strip()"
   ]
  },
  {
   "cell_type": "code",
   "execution_count": 39,
   "id": "7d513eea",
   "metadata": {},
   "outputs": [],
   "source": [
    "dane.loc[dane['WI-FI'].str.contains('nan|nie'), 'WI-FI'] = '0'\n",
    "dane.loc[dane['WI-FI'].str.contains('tak'), 'WI-FI'] = '1'\n",
    "dane['WI-FI'] = dane['WI-FI'].astype(int)"
   ]
  },
  {
   "cell_type": "code",
   "execution_count": 40,
   "id": "72ef8870",
   "metadata": {},
   "outputs": [
    {
     "name": "stdout",
     "output_type": "stream",
     "text": [
      "Number of unique values: 2\n",
      "Unique values:\n",
      "[1, 0]\n"
     ]
    }
   ],
   "source": [
    "unique_values = dane['WI-FI'].value_counts()\n",
    "\n",
    "print(\"Number of unique values:\", unique_values.count())\n",
    "print(\"Unique values:\")\n",
    "print(unique_values.index.tolist())"
   ]
  },
  {
   "cell_type": "markdown",
   "id": "cc30a5d1",
   "metadata": {},
   "source": [
    "CZYTNIK KART"
   ]
  },
  {
   "cell_type": "code",
   "execution_count": 41,
   "id": "6d924459",
   "metadata": {},
   "outputs": [],
   "source": [
    "dane['CZYTNIK KART'] = dane['CZYTNIK KART'].astype(str)\n",
    "dane['CZYTNIK KART'] = dane['CZYTNIK KART'].str.strip()"
   ]
  },
  {
   "cell_type": "code",
   "execution_count": 42,
   "id": "9d8a412d",
   "metadata": {},
   "outputs": [],
   "source": [
    "dane.loc[dane['CZYTNIK KART'].str.contains('nan|do 1 TB|nie'), 'CZYTNIK KART'] = '0'\n",
    "dane.loc[dane['CZYTNIK KART'].str.contains('tak'), 'CZYTNIK KART'] = '1'\n",
    "dane['CZYTNIK KART'] = dane['CZYTNIK KART'].astype(int)"
   ]
  },
  {
   "cell_type": "code",
   "execution_count": 43,
   "id": "7df815f2",
   "metadata": {},
   "outputs": [
    {
     "name": "stdout",
     "output_type": "stream",
     "text": [
      "Number of unique values: 2\n",
      "Unique values:\n",
      "[1, 0]\n"
     ]
    }
   ],
   "source": [
    "unique_values = dane['CZYTNIK KART'].value_counts()\n",
    "\n",
    "print(\"Number of unique values:\", unique_values.count())\n",
    "print(\"Unique values:\")\n",
    "print(unique_values.index.tolist())"
   ]
  },
  {
   "cell_type": "markdown",
   "id": "513ca02f",
   "metadata": {},
   "source": [
    "MENU PL"
   ]
  },
  {
   "cell_type": "code",
   "execution_count": 44,
   "id": "e54c7ea3",
   "metadata": {},
   "outputs": [],
   "source": [
    "dane['MENU PL'] = dane['MENU PL'].astype(str)\n",
    "dane['MENU PL'] = dane['MENU PL'].str.strip()"
   ]
  },
  {
   "cell_type": "code",
   "execution_count": 45,
   "id": "827c4dfb",
   "metadata": {},
   "outputs": [],
   "source": [
    "dane.loc[dane['MENU PL'].str.contains('nan|nie'), 'MENU PL'] = '0'\n",
    "dane.loc[dane['MENU PL'].str.contains('tak'), 'MENU PL'] = '1'\n",
    "dane['MENU PL'] = dane['MENU PL'].astype(int)"
   ]
  },
  {
   "cell_type": "code",
   "execution_count": 46,
   "id": "0b8268ed",
   "metadata": {},
   "outputs": [
    {
     "name": "stdout",
     "output_type": "stream",
     "text": [
      "Number of unique values: 2\n",
      "Unique values:\n",
      "[1, 0]\n"
     ]
    }
   ],
   "source": [
    "unique_values = dane['MENU PL'].value_counts()\n",
    "\n",
    "print(\"Number of unique values:\", unique_values.count())\n",
    "print(\"Unique values:\")\n",
    "print(unique_values.index.tolist())"
   ]
  },
  {
   "cell_type": "markdown",
   "id": "6351c194",
   "metadata": {},
   "source": [
    "PAMIEC"
   ]
  },
  {
   "cell_type": "code",
   "execution_count": 47,
   "id": "cafa1e1e",
   "metadata": {},
   "outputs": [],
   "source": [
    "dane['PAMIEC'] = dane['PAMIEC'].astype(str) "
   ]
  },
  {
   "cell_type": "code",
   "execution_count": 48,
   "id": "c6e8fbd2",
   "metadata": {},
   "outputs": [],
   "source": [
    "dane[\"PAMIEC\"] = dane[\"PAMIEC\"].str.replace(' GB', '') \n",
    "dane[\"PAMIEC\"] = dane[\"PAMIEC\"].str.replace(',', '.') "
   ]
  },
  {
   "cell_type": "code",
   "execution_count": 49,
   "id": "2a49fb8f",
   "metadata": {},
   "outputs": [],
   "source": [
    "dane['PAMIEC'] = dane['PAMIEC'].str.strip() "
   ]
  },
  {
   "cell_type": "code",
   "execution_count": 50,
   "id": "15ba3279",
   "metadata": {},
   "outputs": [],
   "source": [
    "dane['PAMIEC'] = dane['PAMIEC'].astype(float) "
   ]
  },
  {
   "cell_type": "code",
   "execution_count": 51,
   "id": "825fef87",
   "metadata": {},
   "outputs": [
    {
     "name": "stdout",
     "output_type": "stream",
     "text": [
      "128.000     548\n",
      "256.000     277\n",
      "64.000      243\n",
      "32.000      114\n",
      "NaN          77\n",
      "512.000      62\n",
      "16.000       23\n",
      "1000.000     20\n",
      "4.000         6\n",
      "0.016         5\n",
      "0.128         4\n",
      "0.256         3\n",
      "8.000         3\n",
      "0.004         3\n",
      "0.250         1\n",
      "0.064         1\n",
      "0.032         1\n",
      "Name: PAMIEC, dtype: int64\n"
     ]
    }
   ],
   "source": [
    "unique_values = dane['PAMIEC'].value_counts()\n",
    "value_counts = dane['PAMIEC'].value_counts(dropna=False)\n",
    "print(value_counts)"
   ]
  },
  {
   "cell_type": "markdown",
   "id": "337ab9be",
   "metadata": {},
   "source": [
    "RAM"
   ]
  },
  {
   "cell_type": "code",
   "execution_count": 52,
   "id": "40618603",
   "metadata": {},
   "outputs": [
    {
     "name": "stdout",
     "output_type": "stream",
     "text": [
      " 8 GB               356\n",
      " 4 GB               298\n",
      " 6 GB               209\n",
      "NaN                 191\n",
      " poniżej 512 MB      98\n",
      " 12 GB               82\n",
      " 3 GB                63\n",
      " 2 GB                55\n",
      " 1 GB                17\n",
      " 16 GB               14\n",
      " 0,5 GB               8\n",
      "Name: RAM, dtype: int64\n"
     ]
    }
   ],
   "source": [
    "unique_values = dane['RAM'].value_counts()\n",
    "value_counts = dane['RAM'].value_counts(dropna=False)\n",
    "print(value_counts)"
   ]
  },
  {
   "cell_type": "code",
   "execution_count": 53,
   "id": "60b38046",
   "metadata": {},
   "outputs": [],
   "source": [
    "dane['RAM'] = dane['RAM'].astype(str) "
   ]
  },
  {
   "cell_type": "code",
   "execution_count": 54,
   "id": "35b5cd7d",
   "metadata": {},
   "outputs": [],
   "source": [
    "dane[\"RAM\"] = dane[\"RAM\"].str.replace(' GB', '') \n",
    "dane[\"RAM\"] = dane[\"RAM\"].str.replace('poniżej 512 MB', '<0,5') "
   ]
  },
  {
   "cell_type": "markdown",
   "id": "372591bc",
   "metadata": {},
   "source": [
    "wartosci RAM dla iphonow"
   ]
  },
  {
   "cell_type": "code",
   "execution_count": 55,
   "id": "9614f747",
   "metadata": {},
   "outputs": [],
   "source": [
    "dane.loc[(dane['RAM'] == 'nan') & (dane['URL'].str.contains('iphone')), 'RAM'] = '4'\n",
    "dane.loc[(dane['RAM'] == '4') & (dane['URL'].str.contains('iphone-12-pro')), 'RAM'] = '6'\n",
    "dane.loc[(dane['RAM'] == '4') & (dane['URL'].str.contains('iphone-13-pro')), 'RAM'] = '6'\n",
    "dane.loc[(dane['RAM'] == '4') & (dane['URL'].str.contains('iphone-14')), 'RAM'] = '6'\n",
    "dane.loc[(dane['RAM'] == '6') & (dane['URL'].str.contains('iphone-14-pro')), 'RAM'] = '8'"
   ]
  },
  {
   "cell_type": "code",
   "execution_count": 56,
   "id": "2a7f28d1",
   "metadata": {},
   "outputs": [],
   "source": [
    "dane['RAM'] = dane['RAM'].str.strip() "
   ]
  },
  {
   "cell_type": "code",
   "execution_count": 57,
   "id": "82575d90",
   "metadata": {},
   "outputs": [
    {
     "name": "stdout",
     "output_type": "stream",
     "text": [
      "4       397\n",
      "8       388\n",
      "6       267\n",
      "<0,5     98\n",
      "12       82\n",
      "3        63\n",
      "2        55\n",
      "1        17\n",
      "16       14\n",
      "0,5       8\n",
      "nan       2\n",
      "Name: RAM, dtype: int64\n"
     ]
    }
   ],
   "source": [
    "unique_values = dane['RAM'].value_counts()\n",
    "value_counts = dane['RAM'].value_counts(dropna=False)\n",
    "print(value_counts)"
   ]
  },
  {
   "cell_type": "markdown",
   "id": "3840d4cb",
   "metadata": {},
   "source": [
    "BATERIA"
   ]
  },
  {
   "cell_type": "code",
   "execution_count": 58,
   "id": "aa13b685",
   "metadata": {},
   "outputs": [],
   "source": [
    "dane['BATERIA'] = dane['BATERIA'].astype(str) "
   ]
  },
  {
   "cell_type": "code",
   "execution_count": 59,
   "id": "238f8f23",
   "metadata": {},
   "outputs": [],
   "source": [
    "dane[\"BATERIA\"] = dane[\"BATERIA\"].str.replace(' mAh', '')"
   ]
  },
  {
   "cell_type": "code",
   "execution_count": 60,
   "id": "85574379",
   "metadata": {},
   "outputs": [],
   "source": [
    "dane.loc[(dane['BATERIA'] == 'nan') & (dane['URL'].str.contains('iphone')), 'BATERIA'] = '2815'\n",
    "dane.loc[(dane['BATERIA'] == '2815') & (dane['URL'].str.contains('iphone-12-pro')), 'BATERIA'] = '3110'\n",
    "dane.loc[(dane['BATERIA'] == '2815') & (dane['URL'].str.contains('iphone-13')), 'BATERIA'] = '3095'\n",
    "dane.loc[(dane['BATERIA'] == '3095') & (dane['URL'].str.contains('iphone-13-pro')), 'BATERIA'] = '4300'\n",
    "dane.loc[(dane['BATERIA'] == '2815') & (dane['URL'].str.contains('iphone-14')), 'BATERIA'] = '3279'\n",
    "dane.loc[(dane['BATERIA'] == '3279') & (dane['URL'].str.contains('iphone-14-pro')), 'BATERIA'] = '4322'"
   ]
  },
  {
   "cell_type": "code",
   "execution_count": 61,
   "id": "de65ef0a",
   "metadata": {},
   "outputs": [],
   "source": [
    "dane['BATERIA'] = dane['BATERIA'].str.strip() "
   ]
  },
  {
   "cell_type": "code",
   "execution_count": 62,
   "id": "4122c9aa",
   "metadata": {},
   "outputs": [
    {
     "name": "stdout",
     "output_type": "stream",
     "text": [
      "5000     449\n",
      "4500     116\n",
      "4000      74\n",
      "2815      57\n",
      "4300      47\n",
      "3095      42\n",
      "3279      36\n",
      "4322      32\n",
      "6000      32\n",
      "5020      30\n",
      "3700      23\n",
      "4250      22\n",
      "4400      20\n",
      "1000      18\n",
      "4700      18\n",
      "3300      17\n",
      "3110      15\n",
      "800       14\n",
      "3000      13\n",
      "4520      13\n",
      "4800      13\n",
      "4200      12\n",
      "970       11\n",
      "4600       9\n",
      "1200       9\n",
      "4020       9\n",
      "5580       9\n",
      "3900       8\n",
      "8580       7\n",
      "3500       7\n",
      "5180       7\n",
      "5160       7\n",
      "4820       6\n",
      "8000       6\n",
      "2000       6\n",
      "1400       6\n",
      "900        5\n",
      "1800       5\n",
      "2700       5\n",
      "5260       5\n",
      "6300       5\n",
      "4160       5\n",
      "1450       5\n",
      "5050       4\n",
      "4100       4\n",
      "1500       4\n",
      "1150       4\n",
      "4780       4\n",
      "4310       4\n",
      "6600       4\n",
      "3020       3\n",
      "2500       3\n",
      "4980       3\n",
      "5080       3\n",
      "1715       3\n",
      "5500       3\n",
      "nan        3\n",
      "400        3\n",
      "0          3\n",
      "600        3\n",
      "3520       3\n",
      "5150       3\n",
      "1020       3\n",
      "4470       3\n",
      "10000      3\n",
      "5200       2\n",
      "2990       2\n",
      "4360       2\n",
      "4230       2\n",
      "4085       2\n",
      "4610       2\n",
      "2510       2\n",
      "1810       2\n",
      "4380       2\n",
      "4015       2\n",
      "2200       2\n",
      "2800       2\n",
      "12500      2\n",
      "1380       2\n",
      "4050       2\n",
      "7700       2\n",
      "10600      2\n",
      "3340       2\n",
      "1530       1\n",
      "7000       1\n",
      "1900       1\n",
      "2100       1\n",
      "13200      1\n",
      "2050       1\n",
      "4630       1\n",
      "5800       1\n",
      "6200       1\n",
      "8150       1\n",
      "2150       1\n",
      "5010       1\n",
      "1700       1\n",
      "460        1\n",
      "3320       1\n",
      "3580       1\n",
      "5380       1\n",
      "4115       1\n",
      "3400       1\n",
      "1960       1\n",
      "2750       1\n",
      "3090       1\n",
      "4315       1\n",
      "5280       1\n",
      "4870       1\n",
      "750        1\n",
      "3060       1\n",
      "Name: BATERIA, dtype: int64\n"
     ]
    }
   ],
   "source": [
    "unique_values = dane['BATERIA'].value_counts()\n",
    "value_counts = dane['BATERIA'].value_counts(dropna=False).sort_values(ascending = False)\n",
    "print(value_counts)"
   ]
  },
  {
   "cell_type": "markdown",
   "id": "cf9937b1",
   "metadata": {},
   "source": [
    "WAGA"
   ]
  },
  {
   "cell_type": "code",
   "execution_count": 63,
   "id": "ee9e151a",
   "metadata": {},
   "outputs": [],
   "source": [
    "dane['WAGA'] = dane['WAGA'].astype(str) "
   ]
  },
  {
   "cell_type": "code",
   "execution_count": 64,
   "id": "8a739f2c",
   "metadata": {},
   "outputs": [],
   "source": [
    "dane[\"WAGA\"] = dane[\"WAGA\"].str.replace(' g', '')\n",
    "dane[\"WAGA\"] = dane[\"WAGA\"].str.replace(',', '.')"
   ]
  },
  {
   "cell_type": "code",
   "execution_count": 65,
   "id": "7fca963c",
   "metadata": {},
   "outputs": [],
   "source": [
    "dane['WAGA'] = dane['WAGA'].str.strip() "
   ]
  },
  {
   "cell_type": "code",
   "execution_count": 66,
   "id": "a360f9b2",
   "metadata": {},
   "outputs": [],
   "source": [
    "dane['WAGA'] = dane['WAGA'].astype('float')"
   ]
  },
  {
   "cell_type": "code",
   "execution_count": 67,
   "id": "813e2ce0",
   "metadata": {},
   "outputs": [
    {
     "name": "stdout",
     "output_type": "stream",
     "text": [
      "NaN      97\n",
      "190.0    44\n",
      "195.0    36\n",
      "199.0    34\n",
      "172.0    33\n",
      "203.0    32\n",
      "194.0    30\n",
      "205.0    29\n",
      "193.0    29\n",
      "196.0    26\n",
      "240.0    26\n",
      "174.0    26\n",
      "189.0    25\n",
      "202.0    24\n",
      "206.0    24\n",
      "204.0    23\n",
      "228.0    22\n",
      "185.0    22\n",
      "192.0    21\n",
      "141.0    20\n",
      "187.0    20\n",
      "155.0    19\n",
      "162.0    18\n",
      "175.0    18\n",
      "167.0    18\n",
      "180.0    17\n",
      "198.0    17\n",
      "209.0    16\n",
      "183.0    16\n",
      "179.0    16\n",
      "133.0    16\n",
      "148.0    15\n",
      "182.0    15\n",
      "188.0    14\n",
      "181.0    14\n",
      "191.0    13\n",
      "201.0    12\n",
      "158.0    12\n",
      "177.0    12\n",
      "169.0    12\n",
      "186.0    12\n",
      "226.0    12\n",
      "178.0    11\n",
      "144.0    11\n",
      "165.0    11\n",
      "178.8     9\n",
      "184.0     9\n",
      "197.0     9\n",
      "173.0     9\n",
      "237.0     8\n",
      "170.0     8\n",
      "220.0     8\n",
      "203.5     8\n",
      "176.0     8\n",
      "215.0     7\n",
      "325.0     7\n",
      "110.0     7\n",
      "210.0     7\n",
      "254.0     7\n",
      "208.0     7\n",
      "159.0     7\n",
      "271.0     6\n",
      "234.0     6\n",
      "218.0     6\n",
      "168.0     6\n",
      "161.0     6\n",
      "171.0     6\n",
      "235.0     6\n",
      "73.0      6\n",
      "150.0     6\n",
      "297.0     5\n",
      "227.0     5\n",
      "239.0     5\n",
      "179.5     5\n",
      "81.0      5\n",
      "85.0      5\n",
      "214.0     5\n",
      "157.0     5\n",
      "90.0      5\n",
      "273.0     4\n",
      "380.0     4\n",
      "270.0     4\n",
      "207.0     4\n",
      "163.0     4\n",
      "183.5     4\n",
      "107.0     4\n",
      "89.0      4\n",
      "200.0     4\n",
      "143.0     3\n",
      "160.0     3\n",
      "166.0     3\n",
      "122.0     3\n",
      "134.0     3\n",
      "346.0     3\n",
      "86.0      3\n",
      "106.0     3\n",
      "123.0     3\n",
      "248.0     3\n",
      "91.0      3\n",
      "230.0     3\n",
      "232.0     3\n",
      "108.0     3\n",
      "140.0     3\n",
      "213.0     3\n",
      "138.0     3\n",
      "63.0      3\n",
      "198.5     2\n",
      "82.0      2\n",
      "296.0     2\n",
      "156.0     2\n",
      "192.5     2\n",
      "91.8      2\n",
      "261.0     2\n",
      "199.5     2\n",
      "124.0     2\n",
      "295.0     2\n",
      "80.0      2\n",
      "370.0     2\n",
      "129.0     2\n",
      "174.5     2\n",
      "379.0     2\n",
      "118.0     2\n",
      "177.5     2\n",
      "83.0      2\n",
      "263.0     2\n",
      "109.0     2\n",
      "192.3     2\n",
      "212.0     2\n",
      "229.0     2\n",
      "423.0     2\n",
      "104.0     2\n",
      "329.0     1\n",
      "88.2      1\n",
      "78.4      1\n",
      "131.0     1\n",
      "68.0      1\n",
      "278.0     1\n",
      "259.0     1\n",
      "152.0     1\n",
      "245.0     1\n",
      "269.0     1\n",
      "146.0     1\n",
      "330.0     1\n",
      "211.0     1\n",
      "200.5     1\n",
      "116.0     1\n",
      "120.0     1\n",
      "145.5     1\n",
      "70.0      1\n",
      "84.5      1\n",
      "276.0     1\n",
      "125.0     1\n",
      "78.0      1\n",
      "320.0     1\n",
      "290.0     1\n",
      "260.0     1\n",
      "50.0      1\n",
      "219.0     1\n",
      "485.0     1\n",
      "321.0     1\n",
      "492.0     1\n",
      "256.0     1\n",
      "358.0     1\n",
      "181.5     1\n",
      "268.0     1\n",
      "292.0     1\n",
      "88.0      1\n",
      "358.2     1\n",
      "Name: WAGA, dtype: int64\n"
     ]
    }
   ],
   "source": [
    "unique_values = dane['WAGA'].value_counts()\n",
    "value_counts = dane['WAGA'].value_counts(dropna=False).sort_values(ascending = False)\n",
    "print(value_counts)"
   ]
  },
  {
   "cell_type": "markdown",
   "id": "6789615a",
   "metadata": {},
   "source": [
    "zamiana nazw kolumn na male litery bez spacji"
   ]
  },
  {
   "cell_type": "code",
   "execution_count": 68,
   "id": "ce86adea",
   "metadata": {},
   "outputs": [],
   "source": [
    "dane = dane.rename(columns=lambda x: x.replace(' ', '_').lower())"
   ]
  },
  {
   "cell_type": "markdown",
   "id": "124d35b0",
   "metadata": {},
   "source": [
    "usuniecie kolumny id"
   ]
  },
  {
   "cell_type": "code",
   "execution_count": 69,
   "id": "16828ac3",
   "metadata": {},
   "outputs": [],
   "source": [
    "dane = dane.drop(['id'], axis=1)"
   ]
  },
  {
   "cell_type": "code",
   "execution_count": 70,
   "id": "462cc090",
   "metadata": {},
   "outputs": [
    {
     "data": {
      "text/plain": [
       "url                                 1391\n",
       "cale                                1391\n",
       "piksele                             1348\n",
       "wyswietlacz_typ                     1391\n",
       "czestotliwosc_odswiezania_ekranu     895\n",
       "wyswietlacz                         1391\n",
       "aparat                              1391\n",
       "system                              1391\n",
       "procesor                            1376\n",
       "ram                                 1391\n",
       "pamiec                              1314\n",
       "czytnik_kart                        1391\n",
       "menu_pl                             1391\n",
       "wi-fi                               1391\n",
       "rozdzielczosc_wideo                 1108\n",
       "gwarancja                           1391\n",
       "waga                                1294\n",
       "bluetooth                           1391\n",
       "5g                                  1391\n",
       "bateria                             1391\n",
       "nazwa                               1391\n",
       "cena                                1386\n",
       "waluta                              1391\n",
       "opinie_liczba                       1216\n",
       "ocena                               1217\n",
       "dtype: int64"
      ]
     },
     "execution_count": 70,
     "metadata": {},
     "output_type": "execute_result"
    }
   ],
   "source": [
    "dane.count()"
   ]
  },
  {
   "cell_type": "markdown",
   "id": "1446ec37",
   "metadata": {},
   "source": [
    "usuniecie kolumny 'wyswietlacz' - zbyt roznorodne dane"
   ]
  },
  {
   "cell_type": "code",
   "execution_count": 71,
   "id": "70d07bfd",
   "metadata": {},
   "outputs": [],
   "source": [
    "dane = dane = dane.drop(['wyswietlacz'], axis=1)"
   ]
  },
  {
   "cell_type": "markdown",
   "id": "701b331e",
   "metadata": {},
   "source": [
    "dane bez opinii"
   ]
  },
  {
   "cell_type": "code",
   "execution_count": 72,
   "id": "13d16fa1",
   "metadata": {},
   "outputs": [],
   "source": [
    "dane_bez_opinii = dane.drop(['opinie_liczba', 'ocena'], axis=1)"
   ]
  },
  {
   "cell_type": "markdown",
   "id": "8d8dd997",
   "metadata": {},
   "source": [
    "usuniecie wierszów gdzie liczba nulli jest wieksza niz 2 (nie uwzgledniajac kolumn liczba_opinii, ocena)"
   ]
  },
  {
   "cell_type": "code",
   "execution_count": 73,
   "id": "a1e65c90",
   "metadata": {},
   "outputs": [],
   "source": [
    "null_counts = dane_bez_opinii.isnull().sum(axis=1)"
   ]
  },
  {
   "cell_type": "code",
   "execution_count": 82,
   "id": "f8ab0315",
   "metadata": {},
   "outputs": [
    {
     "name": "stdout",
     "output_type": "stream",
     "text": [
      "102\n"
     ]
    }
   ],
   "source": [
    "rows_to_drop = null_counts[null_counts > 2].index\n",
    "#print(rows_to_drop)\n",
    "print(len(rows_to_drop))"
   ]
  },
  {
   "cell_type": "code",
   "execution_count": 75,
   "id": "b6de6ebb",
   "metadata": {},
   "outputs": [],
   "source": [
    "dane = dane.drop(rows_to_drop)"
   ]
  },
  {
   "cell_type": "markdown",
   "id": "cdda8777",
   "metadata": {},
   "source": [
    "INDEX"
   ]
  },
  {
   "cell_type": "code",
   "execution_count": 77,
   "id": "23ad167c",
   "metadata": {},
   "outputs": [],
   "source": [
    "dane = dane.reset_index()"
   ]
  },
  {
   "cell_type": "code",
   "execution_count": 78,
   "id": "be17ca6e",
   "metadata": {},
   "outputs": [],
   "source": [
    "dane['id'] = dane.index + 1"
   ]
  },
  {
   "cell_type": "code",
   "execution_count": 79,
   "id": "f6327aa8",
   "metadata": {},
   "outputs": [],
   "source": [
    "dane = dane.drop(['index'], axis=1)"
   ]
  },
  {
   "cell_type": "code",
   "execution_count": 81,
   "id": "c86e62e9",
   "metadata": {},
   "outputs": [],
   "source": [
    "dane.to_excel('dane_final.xlsx', index=False)"
   ]
  }
 ],
 "metadata": {
  "kernelspec": {
   "display_name": "Python 3 (ipykernel)",
   "language": "python",
   "name": "python3"
  },
  "language_info": {
   "codemirror_mode": {
    "name": "ipython",
    "version": 3
   },
   "file_extension": ".py",
   "mimetype": "text/x-python",
   "name": "python",
   "nbconvert_exporter": "python",
   "pygments_lexer": "ipython3",
   "version": "3.9.7"
  }
 },
 "nbformat": 4,
 "nbformat_minor": 5
}
